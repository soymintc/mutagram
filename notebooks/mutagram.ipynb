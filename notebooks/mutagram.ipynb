{
 "cells": [
  {
   "cell_type": "markdown",
   "id": "47215c94-881d-459d-b14e-cd7faba41ac6",
   "metadata": {},
   "source": [
    "# Settings"
   ]
  },
  {
   "cell_type": "code",
   "execution_count": null,
   "id": "a1bcf769-698f-49c9-b260-e14a0b64cfaf",
   "metadata": {},
   "outputs": [],
   "source": [
    "import os\n",
    "import subprocess\n",
    "\n",
    "import tqdm\n",
    "import pyfaidx\n",
    "import yaml\n",
    "\n",
    "import igver"
   ]
  },
  {
   "cell_type": "markdown",
   "id": "777e4ffc-dd5f-4f79-9be3-5ed66ef6c606",
   "metadata": {},
   "source": [
    "# Data"
   ]
  },
  {
   "cell_type": "code",
   "execution_count": null,
   "id": "7ed17a80-778d-4638-b586-25518b3a2e13",
   "metadata": {},
   "outputs": [],
   "source": [
    "fasta_path = '/data1/shahs3/isabl_data_lake/assemblies/GRCh37/GRCh37-lite/GRCh37-lite.fa'"
   ]
  },
  {
   "cell_type": "code",
   "execution_count": null,
   "id": "1d2f97e3-e073-408b-8807-e60ebb540464",
   "metadata": {},
   "outputs": [],
   "source": [
    "genome = pyfaidx.Fasta(fasta_path)"
   ]
  },
  {
   "cell_type": "code",
   "execution_count": null,
   "id": "a6623f59-9cf9-482f-9c73-b6a841d2af86",
   "metadata": {},
   "outputs": [],
   "source": [
    "contig = genome['1']"
   ]
  },
  {
   "cell_type": "code",
   "execution_count": null,
   "id": "ab75354e-e08b-4ba8-aa94-bf2f94958e16",
   "metadata": {},
   "outputs": [],
   "source": [
    "stretch_starts"
   ]
  },
  {
   "cell_type": "code",
   "execution_count": null,
   "id": "31fd2b17-867c-4665-980a-0c088d40cf41",
   "metadata": {},
   "outputs": [],
   "source": [
    "bases = 'ACGT'\n",
    "stretch_starts = {b:{} for b in bases}\n",
    "window_size = 70\n",
    "chroms = [str(c) for c in range(1, 22+1)] + ['X', 'Y']\n",
    "\n",
    "for chrom in tqdm.tqdm(chroms):\n",
    "    seq = genome[chrom][:].seq.upper()\n",
    "    for base in bases:\n",
    "        stretch = base * window_size\n",
    "        if stretch in seq:\n",
    "            start = seq.index(stretch)\n",
    "            end = start + window_size\n",
    "            region = f'{chrom}:{start+1}-{end}'\n",
    "            stretch_starts[base][window_size] = region\n",
    "\n",
    "stretch_starts"
   ]
  },
  {
   "cell_type": "code",
   "execution_count": null,
   "id": "83c9e8e2-4f51-41be-8fd0-e31fc4a97389",
   "metadata": {},
   "outputs": [],
   "source": [
    "stretch_starts = yaml.safe_load(open('../metadata/regions.yaml'))"
   ]
  },
  {
   "cell_type": "code",
   "execution_count": null,
   "id": "6f4e60b7-c79c-41c6-b58b-dde997ba7b41",
   "metadata": {},
   "outputs": [],
   "source": [
    "stretch_starts"
   ]
  },
  {
   "cell_type": "markdown",
   "id": "517bb75e-e1d9-4c44-9430-9de6176e4660",
   "metadata": {},
   "source": [
    "# Pilot"
   ]
  },
  {
   "cell_type": "code",
   "execution_count": null,
   "id": "29a5bf31-3b9b-4543-af9d-9e8aea68a612",
   "metadata": {},
   "outputs": [],
   "source": [
    "paths = ['/data1/shahs3/isabl_data_lake/analyses/51/84/45184/results/SHAH_H000031_P01_02_WG01_aligned.bam']\n",
    "regions = [stretch_starts[b][window_size] for b in 'AGT']\n",
    "paths, regions"
   ]
  },
  {
   "cell_type": "code",
   "execution_count": null,
   "id": "2eb74ec7-ea50-4ddc-b62f-9718325e2864",
   "metadata": {},
   "outputs": [],
   "source": [
    "igver.load_screenshots(paths=[bam], regions=regions, genome='hg19',\n",
    "                       singularity_image='/home/chois7/data1/singularity/sifs/igver-latest.sif', singularity_args='-B /data1 -B /home')"
   ]
  },
  {
   "cell_type": "markdown",
   "id": "1ae4144a-ec31-4217-a029-54b33da4f6c3",
   "metadata": {},
   "source": [
    "# Create letter data"
   ]
  },
  {
   "cell_type": "code",
   "execution_count": null,
   "id": "52044e5c-f575-4bfe-ab3d-904f6fdd6977",
   "metadata": {},
   "outputs": [],
   "source": [
    "ord('A')"
   ]
  },
  {
   "cell_type": "code",
   "execution_count": null,
   "id": "1e546d21-2a01-4127-8ea8-b5b84e8c161f",
   "metadata": {},
   "outputs": [],
   "source": [
    "chr(65)"
   ]
  },
  {
   "cell_type": "code",
   "execution_count": null,
   "id": "eda05025-6589-4da4-8f6c-9196b055a1a8",
   "metadata": {},
   "outputs": [],
   "source": [
    "#!/usr/bin/env python3\n",
    "\n",
    "from PIL import Image, ImageDraw, ImageFont\n",
    "import numpy as np\n",
    "\n",
    "def create_letter_image(letter='A', img_size=(120, 250), font_size=110, ttf=\"../data/fonts/RobotoMono-Bold.ttf\"):\n",
    "    \"\"\"Creates a white image with a black letter centered.\"\"\"\n",
    "    img = Image.new('L', img_size, color=255)\n",
    "    draw = ImageDraw.Draw(img)\n",
    "    \n",
    "    try:\n",
    "        font = ImageFont.truetype(ttf, font_size)\n",
    "    except IOError:\n",
    "        raise RuntimeError(f\"Font not found. Make sure {ttf} is installed.\")\n",
    "    \n",
    "    # Center the text\n",
    "    text_bbox = draw.textbbox((0, 0), letter, font=font)\n",
    "    text_w, text_h = text_bbox[2] - text_bbox[0], text_bbox[3] - text_bbox[1]\n",
    "    position = ((img_size[0] - text_w) // 2, (img_size[1] - text_h) // 2)\n",
    "    \n",
    "    draw.text(position, letter, fill=0, font=font)\n",
    "    return img\n",
    "\n",
    "def resize_image(img, new_size):\n",
    "    \"\"\"Resize the image to new dimensions.\"\"\"\n",
    "    return img.resize(new_size, resample=Image.Resampling.BILINEAR)\n",
    "\n",
    "def image_to_char_matrix(img, fg_char='C', bg_char='A', threshold=128, trim_top=15, trim_side=1):\n",
    "    \"\"\"Convert an image to a character matrix: white -> 'A', black -> 'C'.\"\"\"\n",
    "    arr = np.array(img)\n",
    "    matrix = np.where(arr > threshold, bg_char, fg_char)\n",
    "    return matrix[trim_top:, trim_side:-trim_side]\n",
    "\n",
    "def collapse_char_matrix(matrix):\n",
    "    \"\"\"Collapse the character matrix to string.\"\"\"\n",
    "    collapsed = '\\n'.join(''.join(row) for row in matrix)\n",
    "    return collapsed"
   ]
  },
  {
   "cell_type": "code",
   "execution_count": null,
   "id": "a09d21e5-e3e2-4d5e-817c-6716fee41883",
   "metadata": {},
   "outputs": [],
   "source": [
    "def create_letter_files(letters, out_dir, fg='C', bg='A', resize=(70, 60), trim_top=20, trim_side=10, ttf=\"../data/fonts/RobotoMono-Bold.ttf\"):\n",
    "    for letter in letters:\n",
    "        # Step 1: Create 70x70 image with 'A'\n",
    "        base_img = create_letter_image(letter, ttf=\"../data/fonts/RobotoMono-Bold.ttf\")\n",
    "        \n",
    "        # Step 2: Resize to 70x40 (fat 'A')\n",
    "        resized_img = resize_image(base_img, resize)\n",
    "        \n",
    "        # Step 3: Convert to character matrix\n",
    "        char_matrix = image_to_char_matrix(resized_img, fg_char=fg, bg_char=bg, trim_top=trim_top, trim_side=trim_side)\n",
    "        \n",
    "        # Step 4: Print to stdout\n",
    "        character = collapse_char_matrix(char_matrix)\n",
    "        \n",
    "        with open(f'{out_dir}/{letter}.fg{fg}.bg{bg}.txt', 'w') as out:\n",
    "            out.write(character+'\\n')"
   ]
  },
  {
   "cell_type": "code",
   "execution_count": null,
   "id": "72730086-1ee0-4172-b622-fd8db64c4136",
   "metadata": {},
   "outputs": [],
   "source": [
    "ttf = \"../data/fonts/RobotoMono-Bold.ttf\"\n",
    "out_dir = '../results/letters'\n",
    "fg = 'C'\n",
    "bg = 'A'"
   ]
  },
  {
   "cell_type": "code",
   "execution_count": null,
   "id": "39c7978d-63c4-45f6-9bb4-1f7bb8ae77f8",
   "metadata": {},
   "outputs": [],
   "source": [
    "letters_large = [chr(l) for l in range(ord('A'), ord('Z')+1)] \n",
    "letters_int = [str(i) for i in range(10)]\n",
    "letters_small = [chr(l) for l in range(ord('a'), ord('z')+1)]\n",
    "letters_misc = [c for c in ';,.\\'\"{}[]<>?']\n",
    "\n",
    "letters = letters_large + letters_int + letters_small + letters_misc\n",
    "\n",
    "create_letter_files(letters, out_dir, fg=fg, bg=bg, ttf=ttf)"
   ]
  },
  {
   "cell_type": "markdown",
   "id": "9138c8ab-c802-495b-a6f1-313413d0db4f",
   "metadata": {},
   "source": [
    "# Make BAM"
   ]
  },
  {
   "cell_type": "code",
   "execution_count": null,
   "id": "cc44b7ae-6b6c-47a7-a1e1-1d664d47b04b",
   "metadata": {},
   "outputs": [],
   "source": [
    "import pysam\n",
    "import pyfaidx"
   ]
  },
  {
   "cell_type": "code",
   "execution_count": null,
   "id": "c9b6a819-519d-4b9f-b3c9-be4a482d8d36",
   "metadata": {},
   "outputs": [],
   "source": [
    "fasta_path = '/data1/shahs3/isabl_data_lake/assemblies/GRCh37/GRCh37-lite/GRCh37-lite.fa'\n",
    "fasta = pysam.Fastafile(fasta_path)"
   ]
  },
  {
   "cell_type": "code",
   "execution_count": null,
   "id": "1c95d825-ddfc-4d06-96d0-80a6006fcacf",
   "metadata": {},
   "outputs": [],
   "source": [
    "chroms = fasta.references\n",
    "lengths = fasta.lengths"
   ]
  },
  {
   "cell_type": "markdown",
   "id": "1ebbaa20-f52f-405b-a489-3ba5c4b8b259",
   "metadata": {},
   "source": [
    "## read seqs"
   ]
  },
  {
   "cell_type": "code",
   "execution_count": null,
   "id": "3f0aa0f7-d945-4935-8b8c-daf41b21d71b",
   "metadata": {},
   "outputs": [],
   "source": [
    "stretch_starts"
   ]
  },
  {
   "cell_type": "code",
   "execution_count": null,
   "id": "4229fa65-b311-4656-94be-71f1d78c4205",
   "metadata": {},
   "outputs": [],
   "source": [
    "bg = 'A' # background letter\n",
    "ws = 70 # window size of stretch"
   ]
  },
  {
   "cell_type": "code",
   "execution_count": null,
   "id": "d880311b-9b66-4a65-a9bf-b43ac793ee43",
   "metadata": {},
   "outputs": [],
   "source": [
    "out_dir = '../results/bam'\n",
    "for letter in letters:\n",
    "    reads_path = f'../results/letters/{letter}.fgC.bg{bg}.txt'\n",
    "    read_seqs = [s.strip() for s in open(reads_path).readlines()]\n",
    "    region = stretch_starts[bg][ws]\n",
    "    make_letter_bam(letter, out_dir, region, fg=fg, bg=bg)"
   ]
  },
  {
   "cell_type": "code",
   "execution_count": null,
   "id": "964aac2b-5bde-4c5a-9c50-a4e4d1c32958",
   "metadata": {},
   "outputs": [],
   "source": [
    "def make_letter_bam(letter, out_dir, region, fg='C', bg='A'):\n",
    "    chrom, span = region.split(':')\n",
    "    start_pos, end_pos = [int(_) for _ in span.split('-')]\n",
    "    \n",
    "    bam = f'{out_dir}/{letter}.fg{fg}.bg{bg}.bam'\n",
    "    \n",
    "    # Load reference FASTA to get header\n",
    "    ref_fasta = pysam.FastaFile(fasta_path)\n",
    "    header = {\n",
    "        \"HD\": {\"VN\": \"1.0\"},\n",
    "        \"SQ\": [{\"SN\": r, \"LN\": ref_fasta.get_reference_length(r)} for r in ref_fasta.references]\n",
    "    }\n",
    "    ref_id = ref_fasta.references.index(chrom)\n",
    "    \n",
    "    # Create BAM file\n",
    "    with pysam.AlignmentFile(bam, \"wb\", header=header) as outf:\n",
    "        for i, seq in enumerate(read_seqs[::-1]):\n",
    "            a = pysam.AlignedSegment()\n",
    "            a.query_name = f\"read_{i}\"\n",
    "            a.query_sequence = seq\n",
    "            a.flag = 0  # mapped, forward strand\n",
    "            a.reference_id = ref_id\n",
    "            a.reference_start = start_pos\n",
    "            a.mapping_quality = 60\n",
    "            a.cigar = [(0, len(seq))]  # match\n",
    "            a.query_qualities = pysam.qualitystring_to_array(\"I\" * len(seq))  # phred 40\n",
    "            outf.write(a)\n",
    "    \n",
    "    # # Sort and index for IGV\n",
    "    # subprocess.run([\"samtools\", \"sort\", \"-o\", \"custom.sorted.bam\", \"custom.bam\"])\n",
    "    subprocess.run([\"samtools\", \"index\", bam])"
   ]
  },
  {
   "cell_type": "markdown",
   "id": "e281a2d6-c641-41b2-8c28-9789aa4415c1",
   "metadata": {},
   "source": [
    "# Visualize"
   ]
  },
  {
   "cell_type": "code",
   "execution_count": null,
   "id": "359865eb-ec5f-4d2f-a8ac-9df79e435afc",
   "metadata": {},
   "outputs": [],
   "source": [
    "import igver\n",
    "import tqdm"
   ]
  },
  {
   "cell_type": "code",
   "execution_count": null,
   "id": "be40d6a4-6d3a-4b68-86ff-6f9a1250b491",
   "metadata": {},
   "outputs": [
    {
     "name": "stderr",
     "output_type": "stream",
     "text": [
      " 27%|██▋       | 20/74 [03:42<10:16, 11.41s/it]/home/chois7/miniforge3/envs/py11/lib/python3.11/site-packages/igver/igver.py:19: RuntimeWarning: More than 20 figures have been opened. Figures created through the pyplot interface (`matplotlib.pyplot.figure`) are retained until explicitly closed and may consume too much memory. (To control this warning, see the rcParam `figure.max_open_warning`). Consider using `matplotlib.pyplot.close()`.\n",
      "  fig, ax = plt.subplots(figsize=figsize, dpi=dpi)\n",
      " 72%|███████▏  | 53/74 [10:17<05:07, 14.62s/it]"
     ]
    }
   ],
   "source": [
    "margin = 30\n",
    "end_pos = start_pos + ws\n",
    "for letter in tqdm.tqdm(letters):\n",
    "    bam = f'../results/bam/{letter}.fg{fg}.bg{bg}.bam'\n",
    "    png = f'../results/png/{letter}.fg{fg}.bg{bg}.png'\n",
    "    png_resized = f'../results/png_resize/{letter}.fg{fg}.bg{bg}.png'\n",
    "    region = f'{chrom}:{start_pos+1-margin}-{end_pos+margin}'\n",
    "    figs = igver.load_screenshots([bam], [region], max_panel_height=800, overlap_display='expand', singularity_args='-B /data1 -B /home')\n",
    "    fig = figs[0]\n",
    "    fig.savefig(png)\n",
    "    resize_png(fig, png_resized)"
   ]
  },
  {
   "cell_type": "code",
   "execution_count": 174,
   "id": "b25ba2f3-0948-498e-a577-c24cfa20fcaa",
   "metadata": {},
   "outputs": [],
   "source": [
    "import numpy as np\n",
    "from PIL import Image\n",
    "import io\n",
    "\n",
    "def resize_png(fig, out_path):\n",
    "    # 2. Save figure to a buffer in RGBA format\n",
    "    buf = io.BytesIO()\n",
    "    fig.savefig(buf, format='png', dpi=100, bbox_inches='tight', pad_inches=0)\n",
    "    buf.seek(0)\n",
    "    \n",
    "    # 3. Open with PIL\n",
    "    img = Image.open(buf)\n",
    "    \n",
    "    # 4. Crop the image: (left, upper, right, lower)\n",
    "    # Example: remove 50 pixels from each edge\n",
    "    cropped = img.crop(box=(90, 10, img.width - 50, img.height - 20))\n",
    "    \n",
    "    # 5. Resize the image (e.g., downsample or reshape)\n",
    "    resized = cropped.resize((30, 50), Image.Resampling.LANCZOS)\n",
    "    \n",
    "    # 6. Save or display\n",
    "    resized.save(out_path)\n",
    "    # resized.show()"
   ]
  },
  {
   "cell_type": "code",
   "execution_count": null,
   "id": "77336c18-deb9-4e83-ab4f-b0104ba7c409",
   "metadata": {},
   "outputs": [],
   "source": []
  }
 ],
 "metadata": {
  "jupytext": {
   "formats": "ipynb,md"
  },
  "kernelspec": {
   "display_name": "Python 3 (ipykernel)",
   "language": "python",
   "name": "python3"
  },
  "language_info": {
   "codemirror_mode": {
    "name": "ipython",
    "version": 3
   },
   "file_extension": ".py",
   "mimetype": "text/x-python",
   "name": "python",
   "nbconvert_exporter": "python",
   "pygments_lexer": "ipython3",
   "version": "3.11.8"
  }
 },
 "nbformat": 4,
 "nbformat_minor": 5
}
